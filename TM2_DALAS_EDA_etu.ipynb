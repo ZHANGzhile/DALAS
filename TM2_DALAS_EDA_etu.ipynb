{
  "nbformat": 4,
  "nbformat_minor": 0,
  "metadata": {
    "colab": {
      "provenance": []
    },
    "kernelspec": {
      "name": "python3",
      "display_name": "Python 3"
    },
    "language_info": {
      "name": "python"
    }
  },
  "cells": [
    {
      "cell_type": "markdown",
      "source": [
        "# Exploratory Data Analysis\n",
        "\n",
        "\n",
        "The objective of this notebook is to explore datasets.\n",
        "You will need Pandas, a tutorial is available [here](https://pandas.pydata.org/docs/user_guide/10min.html).\n",
        "\n",
        "\n",
        "Please note that this notebook is inspired from notebooks published by Galiana, Lino. 2023. Python Pour La Data Science. https://doi.org/10.5281/zenodo.8229676."
      ],
      "metadata": {
        "id": "snhL9W6GUFhM"
      }
    },
    {
      "cell_type": "markdown",
      "source": [
        "## Dataset\n",
        "We consider a dataset gathering information about elections and votes between 2000 and 2016 in the USA. Il also maps economics signals."
      ],
      "metadata": {
        "id": "NhazNolEWedh"
      }
    },
    {
      "cell_type": "code",
      "execution_count": null,
      "metadata": {
        "id": "Q23PofkyPqAS"
      },
      "outputs": [],
      "source": [
        "import requests\n",
        "\n",
        "url = 'https://raw.githubusercontent.com/linogaliana/python-datascientist/master/content/modelisation/get_data.py'\n",
        "r = requests.get(url, allow_redirects=True)\n",
        "open('getdata.py', 'wb').write(r.content)\n",
        "\n",
        "import getdata\n",
        "votes = getdata.create_votes_dataframes()\n",
        "votes.head(3)"
      ]
    },
    {
      "cell_type": "markdown",
      "source": [
        "Q1. What is the size of the dataframe? (number of lines and columns)\n",
        "\n",
        "Print the column names and their types.\n",
        "\n",
        "Print the statistics of each numerical column (mean, std, quartile, min, max)."
      ],
      "metadata": {
        "id": "wBFIQH6CtRor"
      }
    },
    {
      "cell_type": "code",
      "source": [
        "#[STUDENT]"
      ],
      "metadata": {
        "id": "UDNUUlvCs1Vb"
      },
      "execution_count": null,
      "outputs": []
    },
    {
      "cell_type": "markdown",
      "source": [
        "Q2. What are the different values of the 'winner' variable? Recode this values into numbers 1,2,3,... and store this encoding in a new variable \"winner2\"."
      ],
      "metadata": {
        "id": "fqERsYEO0ufg"
      }
    },
    {
      "cell_type": "code",
      "source": [
        "#[STUDENT]"
      ],
      "metadata": {
        "id": "q7Lqo9R31AuB"
      },
      "execution_count": null,
      "outputs": []
    },
    {
      "cell_type": "markdown",
      "source": [
        "## Descriptive analysis\n",
        "\n",
        "\n",
        "Q3. Create a dataframe including only those variables: \"winner\", \"votes_gop\",\n",
        "          'Unemployment_rate_2019', 'Median_Household_Income_2019',\n",
        "          'Percent of adults with less than a high school diploma, 2015-19',\n",
        "          \"Percent of adults with a bachelor's degree or higher, 2015-19\".\n",
        "Keep the index \"GEOID\" as index of your dataframe. (use *set_index*).\n"
      ],
      "metadata": {
        "id": "A68TVqNhaLAt"
      }
    },
    {
      "cell_type": "code",
      "source": [
        "#[STUDENT]"
      ],
      "metadata": {
        "id": "PN-ger7EaOMT"
      },
      "execution_count": null,
      "outputs": []
    },
    {
      "cell_type": "markdown",
      "source": [
        "Q4. Create a frequency tab for each winner value. Build the plot with horizontal bars illustrating this frequency."
      ],
      "metadata": {
        "id": "OK8n-qgK1zVG"
      }
    },
    {
      "cell_type": "code",
      "source": [
        "#[STUDENT]"
      ],
      "metadata": {
        "id": "PmJRu1Kg11mw"
      },
      "execution_count": null,
      "outputs": []
    },
    {
      "cell_type": "markdown",
      "source": [
        "Q5. Let's consider the 'Median_Household_Income_2019' variable. Transform this variable into a categorical one with 5 five labels. Create the frequency tabl and the associated graph."
      ],
      "metadata": {
        "id": "NjBUKv6j2cjk"
      }
    },
    {
      "cell_type": "code",
      "source": [
        "#[STUDENT]"
      ],
      "metadata": {
        "id": "dDLzqqgf20Ai"
      },
      "execution_count": null,
      "outputs": []
    },
    {
      "cell_type": "markdown",
      "source": [
        "Q6. Provide descriptive statistics of all variables in the dataframe."
      ],
      "metadata": {
        "id": "gdk_6JpAqP5d"
      }
    },
    {
      "cell_type": "code",
      "source": [
        "#[STUDENT]"
      ],
      "metadata": {
        "id": "9FW9acNXqPVS"
      },
      "execution_count": null,
      "outputs": []
    },
    {
      "cell_type": "markdown",
      "source": [
        "Q7. Build an histogram for the variables vote_gop."
      ],
      "metadata": {
        "id": "By6z3BRhrwb1"
      }
    },
    {
      "cell_type": "code",
      "source": [
        "#[STUDENT]"
      ],
      "metadata": {
        "id": "6xhXRvImrwMO"
      },
      "execution_count": null,
      "outputs": []
    },
    {
      "cell_type": "markdown",
      "source": [
        "Q8. Extract the correlation matrix. Graph it by using the seaborn package and its heatmap function.\n",
        "Plot a matrix of point clouds of df2 variables with pd.plotting.scatter_matrix.\n",
        "Interpret"
      ],
      "metadata": {
        "id": "O35QIZ1svGhl"
      }
    },
    {
      "cell_type": "code",
      "source": [
        "#[STUDENT]"
      ],
      "metadata": {
        "id": "Yo0UR7MvvG3H"
      },
      "execution_count": null,
      "outputs": []
    },
    {
      "cell_type": "code",
      "source": [
        "#[STUDENT]"
      ],
      "metadata": {
        "id": "DgPMHzJXv2f3"
      },
      "execution_count": null,
      "outputs": []
    },
    {
      "cell_type": "markdown",
      "source": [
        "## Visualization with maps\n",
        "\n",
        "\n",
        "Q9. Below, we have two blocks of code generating two different graphs (the first map is a choropleth card). They use the same dataset but have different shapes. Comment these graphs and the differences."
      ],
      "metadata": {
        "id": "luC6JPCRV6cS"
      }
    },
    {
      "cell_type": "code",
      "source": [
        "import numpy as np\n",
        "import matplotlib.pyplot as plt\n",
        "import seaborn as sns\n",
        "\n",
        "\n",
        "# republican : red, democrat : blue\n",
        "color_dict = {'republican': '#FF0000', 'democrats': '#0000FF'}\n",
        "\n",
        "fig, ax = plt.subplots(figsize = (12,12))\n",
        "grouped = votes.groupby('winner')\n",
        "for key, group in grouped:\n",
        "    group.plot(ax=ax, column='winner', label=key, color=color_dict[key])\n",
        "plt.axis('off')"
      ],
      "metadata": {
        "id": "9kBXZhQhYNFx"
      },
      "execution_count": null,
      "outputs": []
    },
    {
      "cell_type": "code",
      "source": [
        "import plotly\n",
        "import plotly.graph_objects as go\n",
        "import pandas as pd\n",
        "import geopandas as gpd\n",
        "import numpy as np\n",
        "\n",
        "\n",
        "centroids = votes.copy()\n",
        "centroids.geometry = centroids.centroid\n",
        "centroids['size'] = centroids['CENSUS_2010_POP'] / 10000  # to get reasonable plotable number\n",
        "\n",
        "color_dict = {\"republican\": '#FF0000', 'democrats': '#0000FF'}\n",
        "centroids[\"winner\"] =  np.where(centroids['votes_gop'] > centroids['votes_dem'], 'republican', 'democrats')\n",
        "\n",
        "\n",
        "centroids['lon'] = centroids['geometry'].x\n",
        "centroids['lat'] = centroids['geometry'].y\n",
        "centroids = pd.DataFrame(centroids[[\"county_name\",'lon','lat','winner', 'CENSUS_2010_POP',\"state_name\"]])\n",
        "groups = centroids.groupby('winner')\n",
        "\n",
        "df = centroids.copy()\n",
        "\n",
        "df['color'] = df['winner'].replace(color_dict)\n",
        "df['size'] = df['CENSUS_2010_POP']/6000\n",
        "df['text'] = df['CENSUS_2010_POP'].astype(int).apply(lambda x: '<br>Population: {:,} people'.format(x))\n",
        "df['hover'] = df['county_name'].astype(str) +  df['state_name'].apply(lambda x: ' ({}) '.format(x)) + df['text']\n",
        "\n",
        "fig_plotly = go.Figure(\n",
        "  data=go.Scattergeo(\n",
        "  locationmode = 'USA-states',\n",
        "  lon=df[\"lon\"], lat=df[\"lat\"],\n",
        "  text = df[\"hover\"],\n",
        "  mode = 'markers',\n",
        "  marker_color = df[\"color\"],\n",
        "  marker_size = df['size'],\n",
        "  hoverinfo=\"text\"\n",
        "  )\n",
        ")\n",
        "\n",
        "fig_plotly.update_traces(\n",
        "  marker = {'opacity': 0.5, 'line_color': 'rgb(40,40,40)', 'line_width': 0.5, 'sizemode': 'area'}\n",
        ")\n",
        "\n",
        "fig_plotly.update_layout(\n",
        "  title_text = \"Reproduction of the \\\"Acres don't vote, people do\\\" map <br>(Click legend to toggle traces)\",\n",
        "  showlegend = True,\n",
        "  geo = {\"scope\": 'usa', \"landcolor\": 'rgb(217, 217, 217)'}\n",
        ")"
      ],
      "metadata": {
        "id": "gmiHYiXiV3ak"
      },
      "execution_count": null,
      "outputs": []
    },
    {
      "cell_type": "markdown",
      "source": [
        "## Normalization\n",
        "\n",
        "Q10. Standardize all variables in the dataframe (do not overwrite the values!) and look at the histogram of variable 'the Median_Household_Income_2019 variable' before/after standardization."
      ],
      "metadata": {
        "id": "VwiyhCA-x_SA"
      }
    },
    {
      "cell_type": "code",
      "source": [
        "#[STUDENT]"
      ],
      "metadata": {
        "id": "krXUZWpW5zhA"
      },
      "execution_count": null,
      "outputs": []
    },
    {
      "cell_type": "code",
      "source": [
        "#[STUDENT]"
      ],
      "metadata": {
        "id": "yUJTUB8S6Qr4"
      },
      "execution_count": null,
      "outputs": []
    },
    {
      "cell_type": "code",
      "source": [
        "#[STUDENT]"
      ],
      "metadata": {
        "id": "oYRSkQq36qWE"
      },
      "execution_count": null,
      "outputs": []
    },
    {
      "cell_type": "markdown",
      "source": [
        "Q11. Varify that the distribution centered at zero, and that the empirical variance is indeed equal to 1."
      ],
      "metadata": {
        "id": "ipfbl_nmya6c"
      }
    },
    {
      "cell_type": "code",
      "source": [
        "#[STUDENT]"
      ],
      "metadata": {
        "id": "5JcDwjz1ylR8"
      },
      "execution_count": null,
      "outputs": []
    },
    {
      "cell_type": "markdown",
      "source": [
        "Q12. Create scaler, a Transformer that you build on the first 1000 rows of your df2 DataFrame with the exception of the variable to be explained winner. Check the mean and standard deviation of each column on these same observations. The parameters that will be used for later standardization are stored in the .mean_ and .scale_ attributes."
      ],
      "metadata": {
        "id": "qjjoDKDXylys"
      }
    },
    {
      "cell_type": "code",
      "source": [
        "#[STUDENT]"
      ],
      "metadata": {
        "id": "fxrpN1Y6ypiK"
      },
      "execution_count": null,
      "outputs": []
    },
    {
      "cell_type": "markdown",
      "source": [
        "# Outlier detection\n",
        "\n",
        "Q13. Plot the distribution of each variable in a boxplot and analyze them. Do you see outliers?\n"
      ],
      "metadata": {
        "id": "YKdIsBOK7Lp-"
      }
    },
    {
      "cell_type": "code",
      "source": [
        "#[STUDENT]"
      ],
      "metadata": {
        "id": "snOegBBBA8gg"
      },
      "execution_count": null,
      "outputs": []
    },
    {
      "cell_type": "markdown",
      "source": [
        "Q14. Identify, for each variable, individuals that are not include within the window +/- 3*std. How many lines would you remove in total?"
      ],
      "metadata": {
        "id": "3Hx_nnk_B4XQ"
      }
    },
    {
      "cell_type": "code",
      "source": [
        "#[STUDENT]"
      ],
      "metadata": {
        "id": "WviWJOzlB386"
      },
      "execution_count": null,
      "outputs": []
    },
    {
      "cell_type": "markdown",
      "source": [
        "Q15. Let's process over all variables with a library: you can import and use the IsolationForest function from the sklearn.ensemble package.\n",
        "Change the different parameter values to identify their impact.\n",
        "Do you obtain results different from the analysis of single variables."
      ],
      "metadata": {
        "id": "wgC_3KK479Zs"
      }
    },
    {
      "cell_type": "code",
      "source": [
        "#[STUDENT]"
      ],
      "metadata": {
        "id": "7DmCSjMQzBBO"
      },
      "execution_count": null,
      "outputs": []
    },
    {
      "cell_type": "markdown",
      "source": [
        "Q16. Display in a scatter plot variables 'votes_gop' and 'Unemployment_rate_2019' and color points according whether they are outliers or not. Interpret.\n",
        "You can change pairs of variables."
      ],
      "metadata": {
        "id": "0SJF3nxmoaqw"
      }
    },
    {
      "cell_type": "code",
      "source": [
        "#[STUDENT]"
      ],
      "metadata": {
        "id": "EwCHxggE8OaQ"
      },
      "execution_count": null,
      "outputs": []
    },
    {
      "cell_type": "markdown",
      "source": [
        "Q17. Display for all pairs of variables using pairplot from seaborn."
      ],
      "metadata": {
        "id": "E1zPj-L4pS8E"
      }
    },
    {
      "cell_type": "code",
      "source": [
        "#[STUDENT]"
      ],
      "metadata": {
        "id": "s6JEsm8Vl8Gz"
      },
      "execution_count": null,
      "outputs": []
    }
  ]
}