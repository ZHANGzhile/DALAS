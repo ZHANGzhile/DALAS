{
 "cells": [
  {
   "cell_type": "markdown",
   "id": "bf6d35ce-1acd-43d4-b9b5-07d9a9f774e3",
   "metadata": {},
   "source": [
    "**Machine learning in production**\n",
    "\n",
    "The objective of this session is to discover a set of tools designed to\n",
    "use ML models in real-world applications. We’ll see some examples in the\n",
    "following categories: - rapid prototyping to explore a set of models -\n",
    "version control for model parameters - frontend development for end\n",
    "users - reproducible deployment of applications\n",
    "\n",
    "# Exercice 1 - *Auto-ML*\n",
    "\n",
    "See <https://autokeras.com> for documentation.\n",
    "\n",
    "**Installation**\n",
    "\n",
    "``` sh\n",
    "pip install tensorflow\n",
    "pip install git+https://github.com/keras-team/keras-tuner.git\n",
    "pip install autokeras\n",
    "```\n",
    "\n",
    "As an example, we begin by loading the MNIST dataset. We use the already\n",
    "provided interface inside the Keras library (but any source will be ok).\n",
    "We use the traditionl evaluation protocol with the provided train/test\n",
    "split."
   ]
  },
  {
   "cell_type": "code",
   "execution_count": null,
   "id": "cbbb97cb",
   "metadata": {},
   "outputs": [],
   "source": [
    "# ! pip install tensorflow\n",
    "# ! pip install git+https://github.com/keras-team/keras-tuner.git\n",
    "# ! pip install autokeras"
   ]
  },
  {
   "cell_type": "code",
   "execution_count": 1,
   "id": "0d5728d2-6d3e-4d49-8f20-47d768f4442e",
   "metadata": {},
   "outputs": [
    {
     "name": "stdout",
     "output_type": "stream",
     "text": [
      "WARNING:tensorflow:From c:\\Users\\Saliou\\anaconda3\\Lib\\site-packages\\keras\\src\\losses.py:2976: The name tf.losses.sparse_softmax_cross_entropy is deprecated. Please use tf.compat.v1.losses.sparse_softmax_cross_entropy instead.\n",
      "\n"
     ]
    }
   ],
   "source": [
    "from keras.datasets import mnist\n",
    "\n",
    "(X_train, Y_train), (X_test, Y_test) = mnist.load_data()\n",
    "X_train_small = X_train[:100]\n",
    "Y_train_small = Y_train[:100]"
   ]
  },
  {
   "cell_type": "code",
   "execution_count": 2,
   "id": "15b702d6-caa6-4315-a058-3cd7d7dfbe5c",
   "metadata": {},
   "outputs": [],
   "source": [
    "import autokeras as ak"
   ]
  },
  {
   "cell_type": "markdown",
   "id": "4fe919be-a86a-459a-8d77-df663ad6884b",
   "metadata": {},
   "source": [
    "We define a simple image classifier."
   ]
  },
  {
   "cell_type": "code",
   "execution_count": null,
   "id": "e6cf6d82-d4b1-4182-b153-b065c29408c3",
   "metadata": {},
   "outputs": [],
   "source": [
    "clf = ak.ImageClassifier(overwrite=True, max_trials=2)\n",
    "clf.fit(X_train_small, Y_train_small, epochs=1)"
   ]
  },
  {
   "cell_type": "markdown",
   "id": "e3053390-8e59-42bc-844c-3e3301af620c",
   "metadata": {},
   "source": [
    "The best model can be evaluated with"
   ]
  },
  {
   "cell_type": "code",
   "execution_count": null,
   "id": "e924660f-b09b-4f41-a0e7-6c2874995537",
   "metadata": {},
   "outputs": [],
   "source": [
    "print(clf.evaluate(X_test, Y_test))"
   ]
  },
  {
   "cell_type": "markdown",
   "id": "50fdce65-83fb-4785-b442-f44a29f7cdfc",
   "metadata": {},
   "source": [
    "It’s simply a Keras model, we can export and visualize the layers."
   ]
  },
  {
   "cell_type": "code",
   "execution_count": null,
   "id": "b7071c41-d034-44e3-9295-316498ccd67c",
   "metadata": {},
   "outputs": [],
   "source": [
    "model = clf.export_model()\n",
    "model.summary()"
   ]
  },
  {
   "cell_type": "markdown",
   "id": "bb19720a",
   "metadata": {},
   "source": [
    "## Question 1\n",
    "\n",
    "In the previous cells, it was simply a toy example with no real\n",
    "exploration. Update the parameters to do more experiments."
   ]
  },
  {
   "cell_type": "code",
   "execution_count": null,
   "id": "d72e6138",
   "metadata": {},
   "outputs": [],
   "source": [
    "clf = ak.ImageClassifier(overwrite=True, max_trials=1)\n",
    "clf.fit(X_train_small, Y_train_small, epochs=15)"
   ]
  },
  {
   "cell_type": "code",
   "execution_count": null,
   "id": "52553640",
   "metadata": {},
   "outputs": [],
   "source": [
    "print(clf.evaluate(X_test, Y_test))"
   ]
  },
  {
   "cell_type": "markdown",
   "id": "f568f6ba",
   "metadata": {},
   "source": [
    "## Question 2\n",
    "\n",
    "Using the documentation, customize the search space. Since we are\n",
    "working on MNIST we can restrict ourself to simple models, without\n",
    "relying on pre-trained models.\n"
   ]
  },
  {
   "cell_type": "code",
   "execution_count": null,
   "id": "f59631a4",
   "metadata": {},
   "outputs": [],
   "source": [
    "import numpy as np\n",
    "import keras\n",
    "from sklearn import tree"
   ]
  },
  {
   "cell_type": "code",
   "execution_count": 13,
   "id": "3849bbe4",
   "metadata": {},
   "outputs": [
    {
     "name": "stdout",
     "output_type": "stream",
     "text": [
      "Trial 10 Complete [00h 00m 06s]\n",
      "val_loss: 0.0008931308402679861\n",
      "\n",
      "Best val_loss So Far: 8.493534551234916e-06\n",
      "Total elapsed time: 00h 00m 53s\n",
      "Epoch 1/15\n",
      "4/4 [==============================] - 2s 16ms/step - loss: 2.5039 - accuracy: 0.1200\n",
      "Epoch 2/15\n",
      "4/4 [==============================] - 0s 14ms/step - loss: 2.1033 - accuracy: 0.3500\n",
      "Epoch 3/15\n",
      "4/4 [==============================] - 0s 13ms/step - loss: 1.7962 - accuracy: 0.4400\n",
      "Epoch 4/15\n",
      "4/4 [==============================] - 0s 12ms/step - loss: 1.4226 - accuracy: 0.6100\n",
      "Epoch 5/15\n",
      "4/4 [==============================] - 0s 12ms/step - loss: 1.0350 - accuracy: 0.7200\n",
      "Epoch 6/15\n",
      "4/4 [==============================] - 0s 13ms/step - loss: 0.6507 - accuracy: 0.8300\n",
      "Epoch 7/15\n",
      "4/4 [==============================] - 0s 13ms/step - loss: 0.4778 - accuracy: 0.8400\n",
      "Epoch 8/15\n",
      "4/4 [==============================] - 0s 13ms/step - loss: 0.2891 - accuracy: 0.9100\n",
      "Epoch 9/15\n",
      "4/4 [==============================] - 0s 12ms/step - loss: 0.1625 - accuracy: 0.9700\n",
      "Epoch 10/15\n",
      "4/4 [==============================] - 0s 12ms/step - loss: 0.0880 - accuracy: 0.9800\n",
      "Epoch 11/15\n",
      "4/4 [==============================] - 0s 11ms/step - loss: 0.0665 - accuracy: 0.9900\n",
      "Epoch 12/15\n",
      "4/4 [==============================] - 0s 12ms/step - loss: 0.0498 - accuracy: 0.9800\n",
      "Epoch 13/15\n",
      "4/4 [==============================] - 0s 13ms/step - loss: 0.0512 - accuracy: 0.9800\n",
      "Epoch 14/15\n",
      "4/4 [==============================] - 0s 12ms/step - loss: 0.0761 - accuracy: 0.9700\n",
      "Epoch 15/15\n",
      "4/4 [==============================] - 0s 12ms/step - loss: 0.2095 - accuracy: 0.9100\n",
      "INFO:tensorflow:Assets written to: .\\auto_model\\best_model\\assets\n"
     ]
    },
    {
     "name": "stderr",
     "output_type": "stream",
     "text": [
      "INFO:tensorflow:Assets written to: .\\auto_model\\best_model\\assets\n"
     ]
    },
    {
     "name": "stdout",
     "output_type": "stream",
     "text": [
      "WARNING:tensorflow:From c:\\Users\\Saliou\\anaconda3\\Lib\\site-packages\\keras\\src\\saving\\legacy\\saved_model\\load.py:107: The name tf.gfile.Exists is deprecated. Please use tf.io.gfile.exists instead.\n",
      "\n"
     ]
    },
    {
     "name": "stderr",
     "output_type": "stream",
     "text": [
      "WARNING:tensorflow:From c:\\Users\\Saliou\\anaconda3\\Lib\\site-packages\\keras\\src\\saving\\legacy\\saved_model\\load.py:107: The name tf.gfile.Exists is deprecated. Please use tf.io.gfile.exists instead.\n",
      "\n"
     ]
    },
    {
     "name": "stdout",
     "output_type": "stream",
     "text": [
      "313/313 [==============================] - 2s 5ms/step - loss: 2.5158 - accuracy: 0.5634\n",
      "[2.5158190727233887, 0.5633999705314636]\n"
     ]
    }
   ],
   "source": [
    "input_node = ak.ImageInput()\n",
    "output_node = ak.ConvBlock()(input_node)\n",
    "output_node = ak.Normalization()(output_node)\n",
    "output_node = ak.ConvBlock()(output_node)\n",
    "output_node = ak.Normalization()(output_node)\n",
    "output_node = ak.ClassificationHead()(output_node)\n",
    "\n",
    "auto_model = ak.AutoModel(inputs=input_node, outputs=output_node, overwrite=True, max_trials=10)\n",
    "auto_model.fit(X_train_small, Y_train_small, epochs=15)\n",
    "\n",
    "print(auto_model.evaluate(X_test, Y_test))\n"
   ]
  },
  {
   "cell_type": "markdown",
   "id": "824d4b22",
   "metadata": {},
   "source": [
    "## Question 3\n",
    "\n",
    "Auto-ML is not limited to deep learning. Use *auto-sklearn*\n",
    "<https://automl.github.io/auto-sklearn> to explore models from\n",
    "*scikit-learn*.\n"
   ]
  },
  {
   "cell_type": "code",
   "execution_count": 12,
   "id": "0bfab002",
   "metadata": {},
   "outputs": [
    {
     "ename": "ModuleNotFoundError",
     "evalue": "No module named 'autosklearn'",
     "output_type": "error",
     "traceback": [
      "\u001b[1;31m---------------------------------------------------------------------------\u001b[0m",
      "\u001b[1;31mModuleNotFoundError\u001b[0m                       Traceback (most recent call last)",
      "Cell \u001b[1;32mIn[12], line 2\u001b[0m\n\u001b[0;32m      1\u001b[0m \u001b[38;5;28;01mimport\u001b[39;00m \u001b[38;5;21;01msklearn\u001b[39;00m\u001b[38;5;21;01m.\u001b[39;00m\u001b[38;5;21;01mmetrics\u001b[39;00m\n\u001b[1;32m----> 2\u001b[0m \u001b[38;5;28;01mimport\u001b[39;00m \u001b[38;5;21;01mautosklearn\u001b[39;00m\u001b[38;5;21;01m.\u001b[39;00m\u001b[38;5;21;01mclassification\u001b[39;00m\n\u001b[0;32m      4\u001b[0m \u001b[38;5;28mcls\u001b[39m \u001b[38;5;241m=\u001b[39m autosklearn\u001b[38;5;241m.\u001b[39mclassification\u001b[38;5;241m.\u001b[39mAutoSklearnClassifier()\n\u001b[0;32m      5\u001b[0m \u001b[38;5;28mcls\u001b[39m\u001b[38;5;241m.\u001b[39mfit(X_train_small, Y_train_small)\n",
      "\u001b[1;31mModuleNotFoundError\u001b[0m: No module named 'autosklearn'"
     ]
    }
   ],
   "source": [
    "import sklearn.metrics\n",
    "import autosklearn.classification\n",
    "\n",
    "cls = autosklearn.classification.AutoSklearnClassifier()\n",
    "cls.fit(X_train_small, Y_train_small)\n",
    "predictions = cls.predict(X_test)   \n",
    "\n",
    "\n",
    "print(\"Accuracy score\", sklearn.metrics.accuracy_score(Y_test, predictions))"
   ]
  },
  {
   "cell_type": "markdown",
   "id": "f6289141-6e65-45fe-aff6-a73ac7e6e3b7",
   "metadata": {},
   "source": [
    "\n",
    "## Question 4\n",
    "\n",
    "Display a leaderboard presenting the results of all the explorations.\n",
    "\n",
    "# Exercice 2 - *MLOps*\n",
    "\n",
    "See <https://mlflow.org> for documentation.\n",
    "\n",
    "**Installation**\n",
    "\n",
    "``` sh\n",
    "pip install mlflow\n",
    "```\n",
    "\n",
    "Inside a terminal window, launch\n",
    "\n",
    "``` sh\n",
    "mlflow ui\n",
    "```\n",
    "\n",
    "And with a browser, go to <http://localhost:5000>."
   ]
  },
  {
   "cell_type": "code",
   "execution_count": 3,
   "id": "1b827d6b-8c18-4624-9ad3-55ab80cac0f5",
   "metadata": {},
   "outputs": [],
   "source": [
    "from sklearn.metrics import accuracy_score\n",
    "\n",
    "import mlflow\n",
    "import mlflow.sklearn\n",
    "from mlflow.models import infer_signature"
   ]
  },
  {
   "cell_type": "markdown",
   "id": "87457bd9-ab8a-414d-8f3f-c59ec8e4afc5",
   "metadata": {},
   "source": [
    "Let’s train a simple classifier"
   ]
  },
  {
   "cell_type": "code",
   "execution_count": 4,
   "id": "8f719366-bc86-40d8-bdea-f1f6c2607661",
   "metadata": {},
   "outputs": [],
   "source": [
    "from sklearn.neighbors import KNeighborsClassifier\n",
    "\n",
    "params = {\n",
    "    \"neighbors\": 3\n",
    "}\n",
    "\n",
    "X_train_for_knn = X_train_small.reshape((-1, 28*28))\n",
    "X_test_for_knn = X_test.reshape((-1, 28*28))\n",
    "\n",
    "clf = KNeighborsClassifier(n_neighbors=params[\"neighbors\"])\n",
    "clf.fit(X_train_for_knn, Y_train_small)\n",
    "\n",
    "signature = infer_signature(X_train_for_knn, clf.predict(X_train_for_knn))"
   ]
  },
  {
   "cell_type": "markdown",
   "id": "391cdedc-9586-4ff5-a058-751a06b07c3f",
   "metadata": {},
   "source": [
    "## Question 5\n",
    "\n",
    "Analyze the content of the variable signature."
   ]
  },
  {
   "cell_type": "code",
   "execution_count": 5,
   "id": "5a821ab1-2682-45e0-a2f5-6d1b8fdb2f01",
   "metadata": {},
   "outputs": [
    {
     "data": {
      "text/plain": [
       "inputs: \n",
       "  [Tensor('uint8', (-1, 784))]\n",
       "outputs: \n",
       "  [Tensor('uint8', (-1,))]\n",
       "params: \n",
       "  None"
      ]
     },
     "execution_count": 5,
     "metadata": {},
     "output_type": "execute_result"
    }
   ],
   "source": [
    "signature"
   ]
  },
  {
   "cell_type": "markdown",
   "id": "1b321c7e-10a1-4e89-b7d2-f1d3eaedc58d",
   "metadata": {},
   "source": [
    "Now, let’s register an experiment."
   ]
  },
  {
   "cell_type": "code",
   "execution_count": 7,
   "id": "0c039eae-2319-4680-a072-caa05499424e",
   "metadata": {},
   "outputs": [
    {
     "name": "stderr",
     "output_type": "stream",
     "text": [
      "Registered model 'simple-mnist' already exists. Creating a new version of this model...\n",
      "2024/04/04 15:49:55 INFO mlflow.store.model_registry.abstract_store: Waiting up to 300 seconds for model version to finish creation. Model name: simple-mnist, version 2\n",
      "Created version '2' of model 'simple-mnist'.\n"
     ]
    }
   ],
   "source": [
    "mlflow.set_experiment(\"DALAS experiments\")\n",
    "\n",
    "mlflow.set_tracking_uri(uri=\"http://127.0.0.1:5000\")\n",
    "with mlflow.start_run():\n",
    "    # Log the hyperparameters\n",
    "    mlflow.log_params(params)\n",
    "\n",
    "    # Log the metric\n",
    "    accuracy = accuracy_score(Y_test, clf.predict(X_test_for_knn))\n",
    "    mlflow.log_metric(\"accuracy\", accuracy)\n",
    "\n",
    "    # Log the metric\n",
    "    accuracy = accuracy_score(Y_test, clf.predict(X_test_for_knn))\n",
    "    mlflow.log_metric(\"accuracy\", accuracy)\n",
    "\n",
    "    # Some metadata\n",
    "    mlflow.set_tag(\"Training Info\", \"Basic kNN model for MNIST\")\n",
    "\n",
    "    # Log the model\n",
    "    model_info = mlflow.sklearn.log_model(\n",
    "        sk_model=clf,\n",
    "        artifact_path=\"mnist_model\",\n",
    "        signature=signature,\n",
    "        input_example=X_train_small,\n",
    "        registered_model_name=\"simple-mnist\",\n",
    "    )"
   ]
  },
  {
   "cell_type": "markdown",
   "id": "fec2167a",
   "metadata": {},
   "source": [
    "## Question 6\n",
    "\n",
    "Explore the view in the web interface."
   ]
  },
  {
   "cell_type": "markdown",
   "id": "72b40e7e-ff3d-438a-b800-01b26e04b1e3",
   "metadata": {},
   "source": [
    "\n",
    "\n",
    "## Question 7\n",
    "\n",
    "Run a full experimental campaign, with various parameters and various\n",
    "kind of models.\n",
    "\n",
    "## Question 8\n",
    "\n",
    "MLFlow is designed both for experiments and for deployment. Using\n",
    "<https://mlflow.org/docs/latest/models.html#python-function-python-function>,\n",
    "load a model stored on the serve and use it for some classification.\n",
    "\n",
    "# Exercice 3 - *Interactive* *web* *apps*\n",
    "\n",
    "In most cases, we want to be able to deploy a demo application. Although\n",
    "it is not made to be production ready, it is useful to have a show room\n",
    "in order to demonstrate the capabilities of our model.\n",
    "\n",
    "There are two main libraries to build a web application for a ML\n",
    "project: - Gradio <https://github.com/gradio-app/gradio> (the backend of\n",
    "Huggingface Spaces <https://huggingface.co/spaces>) - Streamlit\n",
    "<https://github.com/streamlit/streamlit>\n",
    "\n",
    "## Question 9\n",
    "\n",
    "Using one of these libraries, build a demo for one of the previously\n",
    "trained models. The model will be loaded through MLFlow.\n",
    "\n",
    "# Exercice 4 - *Docker*\n",
    "\n",
    "Docker is a container framework for Linux. A container is lightweight\n",
    "kind of a virtual machine, allowing to run a lot of containers without\n",
    "any overhead. It is particularly suited to deploy complex application\n",
    "without messing with dependencies and package versions.\n",
    "\n",
    "For research, distributing a container with all the dependencies\n",
    "installed is a good solution for reproducible research. For industrial\n",
    "applications, a container with the model and all the required\n",
    "dependencies can be easily deploy on the production servers.\n",
    "\n",
    "## Question 10\n",
    "\n",
    "*(This part cannot be done at the PPTI.)*\n",
    "\n",
    "Build a container with all the necessary components to run the web\n",
    "application you made in the previous part."
   ]
  }
 ],
 "metadata": {
  "kernelspec": {
   "display_name": "base",
   "language": "python",
   "name": "python3"
  },
  "language_info": {
   "codemirror_mode": {
    "name": "ipython",
    "version": 3
   },
   "file_extension": ".py",
   "mimetype": "text/x-python",
   "name": "python",
   "nbconvert_exporter": "python",
   "pygments_lexer": "ipython3",
   "version": "3.11.4"
  }
 },
 "nbformat": 4,
 "nbformat_minor": 5
}
