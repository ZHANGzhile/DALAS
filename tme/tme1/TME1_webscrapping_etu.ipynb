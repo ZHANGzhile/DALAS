{
  "cells": [
    {
      "cell_type": "markdown",
      "metadata": {},
      "source": [
        "## <right>Binôme \n",
        "* Saliou Barry\n",
        "* Zhile Zhang\n",
        "</right>\n",
        "***"
      ]
    },
    {
      "cell_type": "code",
      "execution_count": null,
      "metadata": {
        "id": "E4zarSeAQdHm"
      },
      "outputs": [],
      "source": [
        "# !pip install -q lxml\n",
        "\n",
        "import bs4\n",
        "import lxml\n",
        "import pandas\n",
        "import urllib\n",
        "\n",
        "from urllib import request"
      ]
    },
    {
      "cell_type": "markdown",
      "metadata": {
        "id": "t4wzROqzT36G"
      },
      "source": [
        "## Exercice 1 : Scrap a table on a wikipedia page\n",
        "\n",
        "We would like to display on a map the location of Summer Olympic Games since 1896. We will use a [Wikipedia page](https://fr.wikipedia.org/wiki/Jeux_olympiques) to scrap the associated table.\n",
        "Below is the code to extract the content of the page using `request` and display its title using `BeautifulSoup`."
      ]
    },
    {
      "cell_type": "code",
      "execution_count": null,
      "metadata": {
        "colab": {
          "base_uri": "https://localhost:8080/"
        },
        "id": "Nl9QICzwTGG7",
        "outputId": "342c30b0-2ade-4dba-efb2-930fb307bb14"
      },
      "outputs": [],
      "source": [
        "jo = \"https://fr.wikipedia.org/wiki/Jeux_olympiques\"\n",
        "\n",
        "request_text = request.urlopen(jo).read()\n",
        "print(request_text[:1000])\n",
        "page = bs4.BeautifulSoup(request_text, \"lxml\")\n",
        "print(page.find(\"title\"))"
      ]
    },
    {
      "cell_type": "markdown",
      "metadata": {
        "id": "EOr-DwYgRsUa"
      },
      "source": [
        "# Web Scrapping in Python\n",
        "\n",
        "\n",
        "**TODO pour moi avant le TME**\n",
        "\n",
        "1.   Faire la version étudiant en enlevant les réponses. Ne garder qu'un code générique pour la carte qu'ils devront adapter\n",
        "\n",
        "\n",
        "\n",
        "The first objective of this notebook is to discover the `request` and `BeautifulSoup` libraries to crawl a table on a Wikitable page, build a dataframe, and create a map.\n",
        "\n",
        "*   `request` and [urllib](https://docs.python.org/3/library/urllib.html#module-urllib) for requestion REST API\n",
        "*   [BeautifulSoup4](https://www.crummy.com/software/BeautifulSoup/bs4/doc/) to inspect webpages\n",
        "\n",
        "Please note that this part serves as an initiation of web scrapping but you will need to learn by yourself to make the project. It is inspired from notebooks published by Galiana, Lino. 2023. Python Pour La Data Science. https://doi.org/10.5281/zenodo.8229676. Exercices target different sources of information, the code needs to be adapted.\n",
        "\n",
        "\n",
        "\n",
        "\n",
        "\n",
        "\n",
        "\n",
        "\n",
        "\n"
      ]
    },
    {
      "cell_type": "markdown",
      "metadata": {
        "id": "U_18h3E9UiYR"
      },
      "source": [
        "Our objective here is to extract the different information in the first table \"Jeux olympiques d'été\" and to build a data frame.\n",
        "\n",
        "To proceed, you will have to follow these steps:\n",
        "*   Find the table\n",
        "*   Collect each line of the table\n",
        "*   Retrieve the different columns and transform them into text format. Also, use `strip` to format the value into a proper text format (e.g., without useless spaces). Store these lines (formated as a table of columns) in a table.\n",
        "\n",
        "**Warning: We have two location for 1940. You have therefore to manage this case: identify the attribute indicating this fact and write a code to collect those lines and insert in the previous table in the right place**\n",
        "\n",
        "* Collect headers of the HTML table\n",
        "* Build a data frame from the result table and the headers\n",
        "\n",
        "\n",
        "\n",
        "\n",
        "\n",
        "\n"
      ]
    },
    {
      "cell_type": "code",
      "execution_count": null,
      "metadata": {
        "id": "M5oVOOZuKxD_"
      },
      "outputs": [],
      "source": [
        "import re\n",
        "# recupere le tableau des jeux olympiques\n",
        "table = page.find(\"table\", attrs=\"wikitable center\")\n",
        "\n",
        "# recupere le titre du tableau\n",
        "tab_title = table.a.text\n",
        "\n",
        "def processing(line) : \n",
        "    line = re.sub(r\"\\[.*\\]|\\(.*\\)\", \"\", line)\n",
        "    line = line.split(\"\\n\")\n",
        "    line = [x for x in line if x != \"\"]\n",
        "\n",
        "    return line\n",
        "\n",
        "\n",
        "def find_nb_ligne(tr):\n",
        "    rows = 0\n",
        "    td = tr.find(\"td\")\n",
        "    if td is not None and td.get('rowspan') is not None:\n",
        "        rows = td.get('rowspan')\n",
        "    return rows\n",
        "\n",
        "\n",
        "# recupere les lignes du tableau et les stocker dans une liste\n",
        "list_ligne = []\n",
        "nb_rows = -1\n",
        "entete = []\n",
        "for ligne in table.find_all(\"tr\"):\n",
        "    process_line = processing(ligne.text)\n",
        "\n",
        "    if nb_rows != 0 and int(find_nb_ligne(ligne))  != 0:\n",
        "        nb_rows = int(find_nb_ligne(ligne))\n",
        "        entete = process_line[0:2]\n",
        "        list_ligne.append(process_line)\n",
        "        nb_rows -= 1\n",
        "    else:\n",
        "        if nb_rows > 0:\n",
        "            process_line = entete + process_line\n",
        "            list_ligne.append(process_line)\n",
        "            nb_rows -= 1\n",
        "        else:\n",
        "            list_ligne.append(process_line)\n",
        "    \n",
        "\n",
        "#enteete du tableau\n",
        "tab_header = list_ligne[0]\n",
        "list_ligne\n",
        "\n"
      ]
    },
    {
      "cell_type": "code",
      "execution_count": null,
      "metadata": {},
      "outputs": [],
      "source": [
        "print(tab_title)\n",
        "df = pandas.DataFrame(list_ligne[1:], columns=tab_header)\n",
        "df"
      ]
    },
    {
      "cell_type": "markdown",
      "metadata": {
        "id": "Qw6i-yLueZvG"
      },
      "source": [
        "## Exercice 2: Locate places on a map\n",
        "\n",
        "The objective here is to identify organizer cities on a map.\n",
        "You will have to code the following steps:\n",
        "* Collect the URL of each city\n",
        "* Go the this page using `urllib.request`\n",
        "* Find the coordinates\n",
        "* Store cities and coordinates in a data frame"
      ]
    },
    {
      "cell_type": "code",
      "execution_count": null,
      "metadata": {
        "id": "7xaYx79JMF_N"
      },
      "outputs": [],
      "source": [
        "import requests\n",
        "from lxml import html\n",
        "jo = \"https://fr.wikipedia.org/wiki/Jeux_olympiques\"\n",
        "\n",
        "response = requests.get(jo)\n",
        "page_for_links = html.fromstring(response.content)\n",
        "\n",
        "links = page_for_links.xpath('//table[@class=\"wikitable center\" and caption[contains(a, \"Jeux olympiques d\\'été\")]]//tr/td[3]//a/@href')\n",
        "links = [\"https://fr.wikipedia.org/\" + x for x in links]\n",
        "print (links)\n"
      ]
    },
    {
      "cell_type": "code",
      "execution_count": null,
      "metadata": {},
      "outputs": [],
      "source": [
        "Coordonnees = []\n",
        "for link in links:\n",
        "    response = requests.get(link)\n",
        "    page_for_links = html.fromstring(response.content)\n",
        "    coord = page_for_links.xpath('//tr[th[contains(a, \"Coordonnées\")]]/td/a/text()')\n",
        "    coord_clean = [re.sub('\\xa0', ' ', c) for c in coord]\n",
        "    Coordonnees.append(coord_clean)\n",
        "Coordonnees\n",
        "\n"
      ]
    },
    {
      "cell_type": "code",
      "execution_count": null,
      "metadata": {},
      "outputs": [],
      "source": [
        "for i , liste in enumerate(Coordonnees) : \n",
        "    if liste == [] : \n",
        "        Coordonnees[i] = [\"NaN\"]\n",
        "Coordonnees"
      ]
    },
    {
      "cell_type": "code",
      "execution_count": null,
      "metadata": {},
      "outputs": [],
      "source": [
        "# Aplatir la liste et marquer les listes vides comme \"vide\"\n",
        "Coordonnees_flat = [item if len(sublist) != 0 else \"vide\" for sublist in Coordonnees for item in sublist] + [\"vide\", \"vide\"]\n",
        "\n",
        "\n",
        "\n",
        "df[\"Coordonnees\"] = Coordonnees_flat\n",
        "df"
      ]
    },
    {
      "cell_type": "markdown",
      "metadata": {
        "id": "4gqYroUff1UQ"
      },
      "source": [
        "We then transform degree coordinates into numerical coordinates to build a map\n"
      ]
    },
    {
      "cell_type": "code",
      "execution_count": null,
      "metadata": {
        "id": "SPkGBLnVWZWc"
      },
      "outputs": [],
      "source": [
        "import re\n",
        "\n",
        "def dms2dd(degrees, minutes, seconds, direction):\n",
        "    dd = float(degrees) + float(minutes)/60 + float(seconds)/(60*60);\n",
        "    if direction in ('S', 'O'):\n",
        "        dd *= -1\n",
        "    return dd\n",
        "\n",
        "def parse_dms(dms):\n",
        "    parts = re.split('[^\\d\\w]+', dms)\n",
        "    #potentially needs an adaptation\n",
        "    #[student]\n",
        "    lat = dms2dd(parts[0], parts[1], parts[2], parts[3])\n",
        "    #lng = dms2dd(parts[4], parts[5], parts[6], parts[7])\n",
        "    return lat\n",
        "\n",
        "data['latitude'] = data['latitude'].apply(parse_dms)\n",
        "\n",
        "print(data)"
      ]
    },
    {
      "cell_type": "markdown",
      "metadata": {
        "id": "j3_3JmXggIEk"
      },
      "source": [
        "The map can be obtain with the following code"
      ]
    },
    {
      "cell_type": "code",
      "execution_count": null,
      "metadata": {
        "id": "93_lzZI3Wkpt"
      },
      "outputs": [],
      "source": [
        "import geopandas as gpd\n",
        "from pathlib import Path\n",
        "import folium\n",
        "from IPython.display import display\n",
        "\n",
        "gdf = gpd.GeoDataFrame(\n",
        "    data, geometry=gpd.points_from_xy(data.longitude, data.latitude))\n",
        "\n",
        "Path(\"leaflet\").mkdir(parents=True, exist_ok=True)\n",
        "\n",
        "center = gdf[['latitude', 'longitude']].mean().values.tolist()\n",
        "sw = gdf[['latitude', 'longitude']].min().values.tolist()\n",
        "ne = gdf[['latitude', 'longitude']].max().values.tolist()\n",
        "\n",
        "m = folium.Map(location = center, tiles='openstreetmap')\n",
        "\n",
        "# I can add marker one by one on the map\n",
        "for i in range(0,len(gdf)):\n",
        "    folium.Marker([gdf.iloc[i]['latitude'], gdf.iloc[i]['longitude']], popup=gdf.iloc[i]['name']).add_to(m)\n",
        "\n",
        "m.fit_bounds([sw, ne])\n",
        "display(m)"
      ]
    },
    {
      "cell_type": "markdown",
      "metadata": {
        "id": "BX4011aO3h4f"
      },
      "source": [
        "# Project\n",
        "\n",
        "The objective of this project is to practice all concepts taught in the main lecture. Therefore, you will have to collect data around a thematic, identify a problematic, clean and format the data, provide some exploratory analysis and visualization, build models and evaluate them. You will have also to design dashboard and to storytell the whole pipeline.\n",
        "\n",
        "\n",
        "The whole project will have two outputs describing the methodology and the results:\n",
        "* A technical report targeting your datascientist colleagues\n",
        "* An oral presentation targeting your CEO, chief, client. In this case, we assume that the audience is not specialized in data science. (But you also need to present the methodology to convince them to trust the results).\n",
        "\n",
        "\n",
        "**Requests:**\n",
        "* Team work of two people (same group throughout the semester)\n",
        "* All your work should be stored on a git repo: [tutorial](https://github.com/baskiotisn/2IN013robot2023/blob/d979333fb80c9b6acd9515aaec040943d10d365c/docs/tutoriel_git.pdf)\n",
        "\n",
        "**Remarks:**\n",
        "There are also other libraries or issues you'll encounter when collecting data. Some of these are listed below, but don't be shy and interact with a search engine to solve your own issue!\n",
        "* [Regular expressions](https://docs.python.org/3/howto/regex.html) might be useful!\n",
        "* [API with authentication](https://www.geeksforgeeks.org/authentication-using-python-requests/)\n",
        "*   [Selenium](https://selenium-python.readthedocs.io/) when pages are generated wia javascript scripts\n",
        "* [Playwright](https://playwright.dev/) --> looks easier and more adapted than Selenium\n",
        "* [Scrapy](https://scrapy.org/) for web crawling / or when you don't know the URL.[Tuto here](https://doc.scrapy.org/en/latest/intro/tutorial.html)\n",
        "* [Summary of some difficulties in scrapping data from the web](https://www.zenrows.com/blog/web-scraping-challenges#page-structure-changes)\n",
        "\n",
        "## Your daily task\n",
        "Collecting data from the web and open data portals. Open data might include csv files, you can use them, but be aware that scraping should be your main acitivity in the dataset gathering.\n",
        "You can begin to format the data, merge them to build dataframe that would be analyzed next week."
      ]
    }
  ],
  "metadata": {
    "colab": {
      "provenance": []
    },
    "kernelspec": {
      "display_name": "Python 3",
      "name": "python3"
    },
    "language_info": {
      "codemirror_mode": {
        "name": "ipython",
        "version": 3
      },
      "file_extension": ".py",
      "mimetype": "text/x-python",
      "name": "python",
      "nbconvert_exporter": "python",
      "pygments_lexer": "ipython3",
      "version": "0.0.0"
    }
  },
  "nbformat": 4,
  "nbformat_minor": 0
}
