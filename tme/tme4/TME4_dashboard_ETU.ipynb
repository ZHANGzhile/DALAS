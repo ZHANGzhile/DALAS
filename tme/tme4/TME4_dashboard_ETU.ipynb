{
  "nbformat": 4,
  "nbformat_minor": 0,
  "metadata": {
    "colab": {
      "provenance": []
    },
    "kernelspec": {
      "name": "python3",
      "display_name": "Python 3"
    },
    "language_info": {
      "name": "python"
    }
  },
  "cells": [
    {
      "cell_type": "markdown",
      "source": [
        "# Dashboard\n",
        "\n",
        "The objective is to design dashboard using the Dash library.\n",
        "\n",
        "\n",
        "\n",
        "*   The first step consists in discovering the library by following this [tutorial](https://dash.plotly.com/tutorial)\n",
        "*   The second step consists in building a dashboard using the visualizations of TME2 (EDA - the election dataset)\n",
        "\n"
      ],
      "metadata": {
        "id": "0_bAV3eoYVXP"
      }
    },
    {
      "cell_type": "markdown",
      "source": [
        "## Dash tutorial\n",
        "\n",
        "Use this space to play with the Dash library and understand how it works."
      ],
      "metadata": {
        "id": "S_YAEgRXZJ1f"
      }
    },
    {
      "cell_type": "code",
      "execution_count": null,
      "metadata": {
        "id": "akbQ6-22Y91F"
      },
      "outputs": [],
      "source": [
        "!pip install dash\n",
        "from dash import Dash, html\n"
      ]
    },
    {
      "cell_type": "code",
      "source": [
        "#Play with the lib"
      ],
      "metadata": {
        "id": "PQLe4hxRZV7V"
      },
      "execution_count": null,
      "outputs": []
    },
    {
      "cell_type": "markdown",
      "source": [
        "## Build your own dashboard\n",
        "\n",
        "Use the EDA analysis on the election dataset to build your own dashboard. You have to include :\n",
        "\n",
        "\n",
        "*  Static visualizations\n",
        "*  Dynamic visualizations (e.g., with radio buttons)\n",
        "* Different format of visualizations (table, graph, map, matrix, ...)\n",
        "* Sections, titles and comments to make the dashboard easily understandable\n",
        "\n"
      ],
      "metadata": {
        "id": "UF7oAh7WZYOM"
      }
    },
    {
      "cell_type": "code",
      "source": [
        "# your own dashboard"
      ],
      "metadata": {
        "id": "QPhlVAZRZifd"
      },
      "execution_count": null,
      "outputs": []
    }
  ]
}