{
  "cells": [
    {
      "cell_type": "markdown",
      "metadata": {
        "id": "0_bAV3eoYVXP"
      },
      "source": [
        "# ANOVA\n",
        "\n",
        "The objective today is to perform some explanatory analysis using variance and covariance analysis to identify the impacting features of a quantitative variable. We rely on the statsmodels library: https://www.statsmodels.org/dev/gettingstarted.html\n",
        "\n",
        "This TP is largely inspired from https://asardell.github.io/statistique-python/\n",
        "\n",
        "\n"
      ]
    },
    {
      "cell_type": "markdown",
      "metadata": {
        "id": "S_YAEgRXZJ1f"
      },
      "source": [
        "## One-way anova\n",
        "\n",
        "Let's consider the following Hotdogs dataset including the calories and sodium levels that could be explained by the hotdog type."
      ]
    },
    {
      "cell_type": "code",
      "execution_count": 1,
      "metadata": {
        "colab": {
          "base_uri": "https://localhost:8080/",
          "height": 206
        },
        "id": "akbQ6-22Y91F",
        "outputId": "ffc8bf3a-b615-42fa-ab4f-c358089f56d9"
      },
      "outputs": [
        {
          "data": {
            "text/html": [
              "<div>\n",
              "<style scoped>\n",
              "    .dataframe tbody tr th:only-of-type {\n",
              "        vertical-align: middle;\n",
              "    }\n",
              "\n",
              "    .dataframe tbody tr th {\n",
              "        vertical-align: top;\n",
              "    }\n",
              "\n",
              "    .dataframe thead th {\n",
              "        text-align: right;\n",
              "    }\n",
              "</style>\n",
              "<table border=\"1\" class=\"dataframe\">\n",
              "  <thead>\n",
              "    <tr style=\"text-align: right;\">\n",
              "      <th></th>\n",
              "      <th>Type</th>\n",
              "      <th>Calories</th>\n",
              "      <th>Sodium</th>\n",
              "    </tr>\n",
              "  </thead>\n",
              "  <tbody>\n",
              "    <tr>\n",
              "      <th>0</th>\n",
              "      <td>Beef</td>\n",
              "      <td>186</td>\n",
              "      <td>495</td>\n",
              "    </tr>\n",
              "    <tr>\n",
              "      <th>1</th>\n",
              "      <td>Beef</td>\n",
              "      <td>181</td>\n",
              "      <td>477</td>\n",
              "    </tr>\n",
              "    <tr>\n",
              "      <th>2</th>\n",
              "      <td>Beef</td>\n",
              "      <td>176</td>\n",
              "      <td>425</td>\n",
              "    </tr>\n",
              "    <tr>\n",
              "      <th>3</th>\n",
              "      <td>Beef</td>\n",
              "      <td>149</td>\n",
              "      <td>322</td>\n",
              "    </tr>\n",
              "    <tr>\n",
              "      <th>4</th>\n",
              "      <td>Beef</td>\n",
              "      <td>184</td>\n",
              "      <td>482</td>\n",
              "    </tr>\n",
              "  </tbody>\n",
              "</table>\n",
              "</div>"
            ],
            "text/plain": [
              "   Type  Calories  Sodium\n",
              "0  Beef       186     495\n",
              "1  Beef       181     477\n",
              "2  Beef       176     425\n",
              "3  Beef       149     322\n",
              "4  Beef       184     482"
            ]
          },
          "execution_count": 1,
          "metadata": {},
          "output_type": "execute_result"
        }
      ],
      "source": [
        "import pandas as pd\n",
        "df = pd.read_csv(\"./Hotdogs.csv\", sep = \";\")\n",
        "df.head()"
      ]
    },
    {
      "cell_type": "markdown",
      "metadata": {
        "id": "CKgnyOKf8D3E"
      },
      "source": [
        "What are the modalities of the explanatory variable?"
      ]
    },
    {
      "cell_type": "code",
      "execution_count": 7,
      "metadata": {
        "id": "Npx8l6EY8Pj8"
      },
      "outputs": [
        {
          "data": {
            "text/plain": [
              "array(['Beef', 'Meat', 'Poultry'], dtype=object)"
            ]
          },
          "execution_count": 7,
          "metadata": {},
          "output_type": "execute_result"
        }
      ],
      "source": [
        "#ETU\n",
        "df[\"Type\"].unique()"
      ]
    },
    {
      "cell_type": "markdown",
      "metadata": {
        "id": "KUe3LoKPf0F9"
      },
      "source": [
        "Generate a boxplot to see the calories distribution by type. Interpret"
      ]
    },
    {
      "cell_type": "code",
      "execution_count": 4,
      "metadata": {
        "id": "PQLe4hxRZV7V"
      },
      "outputs": [
        {
          "data": {
            "text/plain": [
              "<Axes: title={'center': 'Calories'}, xlabel='Type'>"
            ]
          },
          "execution_count": 4,
          "metadata": {},
          "output_type": "execute_result"
        },
        {
          "data": {
            "image/png": "[encoded data removed]",
            "text/plain": [
              "<Figure size 640x480 with 1 Axes>"
            ]
          },
          "metadata": {},
          "output_type": "display_data"
        }
      ],
      "source": [
        "#ETU\n",
        "df.boxplot(column = \"Calories\", by = \"Type\")"
      ]
    },
    {
      "cell_type": "code",
      "execution_count": 29,
      "metadata": {},
      "outputs": [
        {
          "data": {
            "text/plain": [
              "<Axes: title={'center': 'Sodium'}, xlabel='Type'>"
            ]
          },
          "execution_count": 29,
          "metadata": {},
          "output_type": "execute_result"
        },
        {
          "data": {
            "image/png": "[encoded data removed]",
            "text/plain": [
              "<Figure size 640x480 with 1 Axes>"
            ]
          },
          "metadata": {},
          "output_type": "display_data"
        }
      ],
      "source": [
        "#ETU\n",
        "df.boxplot(column = \"Sodium\", by = \"Type\")"
      ]
    },
    {
      "cell_type": "markdown",
      "metadata": {
        "id": "A3yw7NWRi-W0"
      },
      "source": [
        "We are going to demonstrate the equality of variances. Display the variance by type level."
      ]
    },
    {
      "cell_type": "code",
      "execution_count": 16,
      "metadata": {
        "id": "DO6T_dnNi-wv"
      },
      "outputs": [
        {
          "name": "stdout",
          "output_type": "stream",
          "text": [
            "Variance of beef hotdogs:  512.6605263157895\n",
            "Variance of meat hotdogs:  636.845588235294\n",
            "Variance of poultry hotdogs:  508.56617647058823\n"
          ]
        }
      ],
      "source": [
        "#ETU\n",
        "var_beef = df[df[\"Type\"] == \"Beef\"][\"Calories\"].var()\n",
        "var_meat = df[df[\"Type\"] == \"Meat\"][\"Calories\"].var()\n",
        "var_poultry = df[df[\"Type\"] == \"Poultry\"][\"Calories\"].var()\n",
        "\n",
        "print(\"Variance of beef hotdogs: \", var_beef)\n",
        "print(\"Variance of meat hotdogs: \", var_meat)\n",
        "print(\"Variance of poultry hotdogs: \", var_poultry)"
      ]
    },
    {
      "cell_type": "markdown",
      "metadata": {
        "id": "qRfkkH6Yjd3M"
      },
      "source": [
        "Apply the Bartlett test to demonstrate the variance equality."
      ]
    },
    {
      "cell_type": "code",
      "execution_count": 15,
      "metadata": {
        "id": "1U2cmMh1jinD"
      },
      "outputs": [
        {
          "name": "stdout",
          "output_type": "stream",
          "text": [
            "Beef and Meat have the same variance\n",
            "0.655163098205384\n",
            "Beef and Poultry have the same variance\n",
            "0.9868575529959814\n",
            "Meat and Poultry have the same variance\n",
            "0.6581060291516032\n"
          ]
        }
      ],
      "source": [
        "from scipy.stats import bartlett \n",
        "\n",
        "stat_bm , p_value_bm = bartlett(df[\"Calories\"][df[\"Type\"] == \"Beef\"], df[\"Calories\"][df[\"Type\"] == \"Meat\"])\n",
        "stat_bp , p_value_bp = bartlett(df[\"Calories\"][df[\"Type\"] == \"Beef\"], df[\"Calories\"][df[\"Type\"] == \"Poultry\"])\n",
        "stat_mp , p_value_mp = bartlett(df[\"Calories\"][df[\"Type\"] == \"Meat\"], df[\"Calories\"][df[\"Type\"] == \"Poultry\"])\n",
        "\n",
        "if p_value_bm < 0.05:\n",
        "    print(\"Beef and Meat have different variances\")\n",
        "    print(p_value_bm)\n",
        "else:\n",
        "    print(\"Beef and Meat have the same variance\")\n",
        "    print(p_value_bm)\n",
        "\n",
        "if p_value_bp < 0.05:\n",
        "    print(\"Beef and Poultry have different variances\")\n",
        "    print(p_value_bp)\n",
        "else:\n",
        "    print(\"Beef and Poultry have the same variance\")\n",
        "    print(p_value_bp)\n",
        "if p_value_mp < 0.05:\n",
        "    print(\"Meat and Poultry have different variances\")\n",
        "    print(p_value_mp)\n",
        "else:\n",
        "    print(\"Meat and Poultry have the same variance\")\n",
        "    print(p_value_mp)"
      ]
    },
    {
      "cell_type": "code",
      "execution_count": 18,
      "metadata": {},
      "outputs": [
        {
          "name": "stdout",
          "output_type": "stream",
          "text": [
            "All types have the same variance\n",
            "0.8748884496460629\n"
          ]
        }
      ],
      "source": [
        "stat , p_value = bartlett(df[\"Calories\"][df[\"Type\"] == \"Beef\"], df[\"Calories\"][df[\"Type\"] == \"Meat\"], df[\"Calories\"][df[\"Type\"] == \"Poultry\"])\n",
        "\n",
        "if p_value < 0.05:\n",
        "    print(\"All types have different variances\")\n",
        "    print(p_value)\n",
        "else:\n",
        "    print(\"All types have the same variance\")\n",
        "    print(p_value)"
      ]
    },
    {
      "cell_type": "markdown",
      "metadata": {
        "id": "OMtOIGDa9NqV"
      },
      "source": [
        "Let's demonstrate the normalisation of residuals components using the Shapiro test."
      ]
    },
    {
      "cell_type": "code",
      "execution_count": 26,
      "metadata": {
        "id": "xFVop8rd9OAN"
      },
      "outputs": [
        {
          "name": "stdout",
          "output_type": "stream",
          "text": [
            "Statistique de test: 0.9419925808906555\n",
            "La p_valeur est 0.01129539217799902 , les résidus ne suivent pas une loi normale\n",
            "La p_valeur est 0.04905758798122406 , les valeurs ne suivent pas une loi normale\n"
          ]
        }
      ],
      "source": [
        "import statsmodels.api as sm\n",
        "from statsmodels.formula.api import ols\n",
        "from scipy.stats import shapiro\n",
        "\n",
        "model = ols(\"Calories ~ Type\", data = df).fit()\n",
        "\n",
        "# Résidus de la régression\n",
        "residus = model.resid\n",
        "\n",
        "# Test de Shapiro-Wilk\n",
        "statistique, p_valeur = shapiro(residus)\n",
        "\n",
        "print('Statistique de test:', statistique)\n",
        "\n",
        "if p_valeur < 0.05:\n",
        "    print('La p_valeur est', p_valeur, ', les résidus ne suivent pas une loi normale')\n",
        "else:\n",
        "    print('La p_valeur est', p_valeur, ', les résidus suivent une loi normale')\n",
        "\n",
        "# Test sur les valeurs non residuelles\n",
        "statistique, p_valeur = shapiro(df[\"Calories\"])\n",
        "\n",
        "if p_valeur < 0.05:\n",
        "    print('La p_valeur est', p_valeur, ', les valeurs ne suivent pas une loi normale')\n",
        "else:\n",
        "    print('La p_valeur est', p_valeur, ', les valeurs suivent une loi normale')"
      ]
    },
    {
      "cell_type": "markdown",
      "metadata": {
        "id": "UF7oAh7WZYOM"
      },
      "source": [
        "Apply an ANOVA on the following data using the adapted library: https://www.statsmodels.org/stable/anova.html\n",
        "\n",
        "Conclude on the impact of the type on the calories."
      ]
    },
    {
      "cell_type": "code",
      "execution_count": 17,
      "metadata": {
        "id": "y9httF8rgPy7"
      },
      "outputs": [
        {
          "name": "stdout",
          "output_type": "stream",
          "text": [
            "            df        sum_sq      mean_sq          F    PR(>F)\n",
            "Type       2.0  17692.195098  8846.097549  16.073993  0.000004\n",
            "Residual  51.0  28067.138235   550.336044        NaN       NaN\n"
          ]
        }
      ],
      "source": [
        "import statsmodels.api as sm\n",
        "from statsmodels.formula.api import ols\n",
        "from statsmodels.stats.anova import anova_lm\n",
        "\n",
        "model = ols(\"Calories ~ Type\", data = df).fit()\n",
        "anova_table = anova_lm(model)\n",
        "print(anova_table)"
      ]
    },
    {
      "cell_type": "markdown",
      "metadata": {
        "id": "eu8PLkU0-HBm"
      },
      "source": [
        "We would like to compare the different modalities with each other to identify which ones are similar/different regarding the Calories trend. For this purpose, we use:\n",
        "\n",
        "\n",
        "*  MultiComparison to set the observed variables https://www.statsmodels.org/dev/generated/statsmodels.sandbox.stats.multicomp.MultiComparison.html\n",
        "*  The tukey's range test to compare the modalities https://www.statsmodels.org/dev/generated/statsmodels.sandbox.stats.multicomp.MultiComparison.tukeyhsd.html#statsmodels.sandbox.stats.multicomp.MultiComparison.tukeyhsd\n",
        "\n"
      ]
    },
    {
      "cell_type": "code",
      "execution_count": 27,
      "metadata": {
        "id": "T3hIqIBb-Bb4"
      },
      "outputs": [
        {
          "name": "stdout",
          "output_type": "stream",
          "text": [
            "  Multiple Comparison of Means - Tukey HSD, FWER=0.05  \n",
            "=======================================================\n",
            "group1  group2 meandiff p-adj   lower    upper   reject\n",
            "-------------------------------------------------------\n",
            "  Beef    Meat   1.8559 0.9688 -16.8255  20.5373  False\n",
            "  Beef Poultry -38.0853    0.0 -56.7667 -19.4039   True\n",
            "  Meat Poultry -39.9412    0.0 -59.3652 -20.5172   True\n",
            "-------------------------------------------------------\n"
          ]
        }
      ],
      "source": [
        "from statsmodels.stats.multicomp import MultiComparison\n",
        "mc = MultiComparison(df[\"Calories\"], df[\"Type\"])\n",
        "\n",
        "result = mc.tukeyhsd(alpha = 0.05)\n",
        "\n",
        "print(result.summary())\n"
      ]
    },
    {
      "cell_type": "markdown",
      "metadata": {
        "id": "GGM9sY8f824Q"
      },
      "source": [
        "Do you have the same conclusion regarding the sodium values explained by the type?"
      ]
    },
    {
      "cell_type": "code",
      "execution_count": 28,
      "metadata": {
        "id": "lFR1mJG087uM"
      },
      "outputs": [
        {
          "name": "stdout",
          "output_type": "stream",
          "text": [
            "  Multiple Comparison of Means - Tukey HSD, FWER=0.05  \n",
            "=======================================================\n",
            "group1  group2 meandiff p-adj   lower    upper   reject\n",
            "-------------------------------------------------------\n",
            "  Beef    Meat  17.3794  0.843 -57.8581  92.6169  False\n",
            "  Beef Poultry    57.85  0.162 -17.3875 133.0875  False\n",
            "  Meat Poultry  40.4706 0.4304 -37.7576 118.6988  False\n",
            "-------------------------------------------------------\n"
          ]
        }
      ],
      "source": [
        "mc = MultiComparison(df[\"Sodium\"], df[\"Type\"])\n",
        "\n",
        "result = mc.tukeyhsd(alpha = 0.05)\n",
        "\n",
        "print(result.summary())"
      ]
    },
    {
      "cell_type": "markdown",
      "metadata": {
        "id": "196Gn-FqhZ6p"
      },
      "source": [
        "## Two-way anova\n",
        "\n",
        "Let's consider the following ToothGrowth dataset in which we study the length of odontoblasts (cells responsible for tooth growth) in 60 guinea pigs. Each animal received one of three doses of vitamin C (0.5, 1 and 2 mg / day) by one of two administration methods, orange juice or ascorbic acid (a form of vitamin C and coded VC).\n",
        "\n",
        "Our dataset includes the following variables:\n",
        "* len: tooth length\n",
        "* supp: supplement (VC or OJ).\n",
        "* dose: dose in milligrams / day"
      ]
    },
    {
      "cell_type": "code",
      "execution_count": 30,
      "metadata": {
        "colab": {
          "base_uri": "https://localhost:8080/",
          "height": 143
        },
        "id": "qTcCgDkIhDBt",
        "outputId": "9f6ffff7-c7db-4f21-fe99-4b07a4b19484"
      },
      "outputs": [
        {
          "data": {
            "text/html": [
              "<div>\n",
              "<style scoped>\n",
              "    .dataframe tbody tr th:only-of-type {\n",
              "        vertical-align: middle;\n",
              "    }\n",
              "\n",
              "    .dataframe tbody tr th {\n",
              "        vertical-align: top;\n",
              "    }\n",
              "\n",
              "    .dataframe thead th {\n",
              "        text-align: right;\n",
              "    }\n",
              "</style>\n",
              "<table border=\"1\" class=\"dataframe\">\n",
              "  <thead>\n",
              "    <tr style=\"text-align: right;\">\n",
              "      <th></th>\n",
              "      <th>len</th>\n",
              "      <th>supp</th>\n",
              "      <th>dose</th>\n",
              "    </tr>\n",
              "  </thead>\n",
              "  <tbody>\n",
              "    <tr>\n",
              "      <th>0</th>\n",
              "      <td>4.2</td>\n",
              "      <td>VC</td>\n",
              "      <td>0.5</td>\n",
              "    </tr>\n",
              "    <tr>\n",
              "      <th>1</th>\n",
              "      <td>11.5</td>\n",
              "      <td>VC</td>\n",
              "      <td>0.5</td>\n",
              "    </tr>\n",
              "    <tr>\n",
              "      <th>2</th>\n",
              "      <td>7.3</td>\n",
              "      <td>VC</td>\n",
              "      <td>0.5</td>\n",
              "    </tr>\n",
              "  </tbody>\n",
              "</table>\n",
              "</div>"
            ],
            "text/plain": [
              "    len supp  dose\n",
              "0   4.2   VC   0.5\n",
              "1  11.5   VC   0.5\n",
              "2   7.3   VC   0.5"
            ]
          },
          "execution_count": 30,
          "metadata": {},
          "output_type": "execute_result"
        }
      ],
      "source": [
        "df = pd.read_csv(\"./ToothGrowth.csv\")\n",
        "df.head(3)"
      ]
    },
    {
      "cell_type": "markdown",
      "metadata": {
        "id": "Wn_-xA5nAG5G"
      },
      "source": [
        "Study the distribution of the len variable regarding each axplanatory factor (boxplot, bartlett test, ...)"
      ]
    },
    {
      "cell_type": "code",
      "execution_count": 31,
      "metadata": {
        "id": "RLfL3SzhASJ9"
      },
      "outputs": [
        {
          "data": {
            "text/plain": [
              "<Axes: title={'center': 'len'}, xlabel='dose'>"
            ]
          },
          "execution_count": 31,
          "metadata": {},
          "output_type": "execute_result"
        },
        {
          "data": {
            "image/png": "[encoded data removed]",
            "text/plain": [
              "<Figure size 640x480 with 1 Axes>"
            ]
          },
          "metadata": {},
          "output_type": "display_data"
        },
        {
          "data": {
            "image/png": "[encoded data removed]",
            "text/plain": [
              "<Figure size 640x480 with 1 Axes>"
            ]
          },
          "metadata": {},
          "output_type": "display_data"
        }
      ],
      "source": [
        "df.boxplot(column = \"len\", by = \"supp\")\n",
        "df.boxplot(column = \"len\", by = \"dose\")"
      ]
    },
    {
      "cell_type": "code",
      "execution_count": 32,
      "metadata": {
        "id": "dx74K_CKAjal"
      },
      "outputs": [
        {
          "name": "stdout",
          "output_type": "stream",
          "text": [
            "Les variances sont identiques\n"
          ]
        }
      ],
      "source": [
        "statistique , p_value = bartlett(df[\"len\"][df[\"supp\"] == \"OJ\"], df[\"len\"][df[\"supp\"] == \"VC\"])\n",
        "if p_value < 0.05:\n",
        "    print(\"Les variances sont différentes\")\n",
        "else:\n",
        "    print(\"Les variances sont identiques\")"
      ]
    },
    {
      "cell_type": "code",
      "execution_count": 33,
      "metadata": {},
      "outputs": [
        {
          "name": "stdout",
          "output_type": "stream",
          "text": [
            "Les variances sont identiques\n"
          ]
        }
      ],
      "source": [
        "statistique , p_value = bartlett(df[\"len\"][df[\"dose\"] == 0.5], df[\"len\"][df[\"dose\"] == 1], df[\"len\"][df[\"dose\"] == 2])\n",
        "if p_value < 0.05:\n",
        "    print(\"Les variances sont différentes\")\n",
        "else:\n",
        "    print(\"Les variances sont identiques\")"
      ]
    },
    {
      "cell_type": "code",
      "execution_count": 34,
      "metadata": {
        "id": "-0376-AIAVy1"
      },
      "outputs": [
        {
          "name": "stdout",
          "output_type": "stream",
          "text": [
            "Statistique de test: 0.9553825855255127\n",
            "La p_valeur est 0.028090208768844604 , les résidus ne suivent pas une loi normale\n",
            "La p_valeur est 0.10910055041313171 , les valeurs suivent une loi normale\n"
          ]
        }
      ],
      "source": [
        "model = ols(\"len ~ supp + dose\", data = df).fit()\n",
        "\n",
        "# Résidus de la régression\n",
        "residus = model.resid\n",
        "\n",
        "# Test de Shapiro-Wilk\n",
        "statistique, p_valeur = shapiro(residus)\n",
        "\n",
        "print('Statistique de test:', statistique)\n",
        "\n",
        "if p_valeur < 0.05:\n",
        "    print('La p_valeur est', p_valeur, ', les résidus ne suivent pas une loi normale')\n",
        "else:\n",
        "    print('La p_valeur est', p_valeur, ', les résidus suivent une loi normale')\n",
        "\n",
        "# Test sur les valeurs non residuelles\n",
        "statistique, p_valeur = shapiro(df[\"len\"])\n",
        "\n",
        "if p_valeur < 0.05:\n",
        "    print('La p_valeur est', p_valeur, ', les valeurs ne suivent pas une loi normale')\n",
        "else:\n",
        "    print('La p_valeur est', p_valeur, ', les valeurs suivent une loi normale')\n",
        "\n",
        "    "
      ]
    },
    {
      "cell_type": "code",
      "execution_count": null,
      "metadata": {
        "id": "me4u8wwDAkid"
      },
      "outputs": [],
      "source": []
    },
    {
      "cell_type": "markdown",
      "metadata": {
        "id": "j8TiaYjThzjG"
      },
      "source": [
        "Perform a two-way ANOVA without interaction and conclude."
      ]
    },
    {
      "cell_type": "code",
      "execution_count": 35,
      "metadata": {
        "id": "-X12P1glhlzF"
      },
      "outputs": [
        {
          "name": "stdout",
          "output_type": "stream",
          "text": [
            "            df       sum_sq      mean_sq           F        PR(>F)\n",
            "supp       1.0   205.350000   205.350000   11.446768  1.300662e-03\n",
            "dose       1.0  2224.304298  2224.304298  123.988774  6.313519e-16\n",
            "Residual  57.0  1022.555036    17.939562         NaN           NaN\n"
          ]
        }
      ],
      "source": [
        "model = ols(\"len ~ supp + dose\", data = df).fit()\n",
        "\n",
        "anova_table = anova_lm(model)\n",
        "\n",
        "print(anova_table)\n"
      ]
    },
    {
      "cell_type": "markdown",
      "metadata": {
        "id": "DJe03yVoA3mt"
      },
      "source": [
        "Perform an ANOVA with interaction and conclude"
      ]
    },
    {
      "cell_type": "code",
      "execution_count": 36,
      "metadata": {
        "id": "E4sSOqL6AvYY"
      },
      "outputs": [
        {
          "name": "stdout",
          "output_type": "stream",
          "text": [
            "             df       sum_sq      mean_sq           F        PR(>F)\n",
            "supp        1.0   205.350000   205.350000   12.317020  8.936452e-04\n",
            "dose        1.0  2224.304298  2224.304298  133.415146  1.907985e-16\n",
            "supp:dose   1.0    88.920107    88.920107    5.333483  2.463136e-02\n",
            "Residual   56.0   933.634929    16.672052         NaN           NaN\n"
          ]
        }
      ],
      "source": [
        "model = ols(\"len ~ supp * dose\", data = df).fit()\n",
        "\n",
        "anova_table = anova_lm(model)\n",
        "\n",
        "print(anova_table)"
      ]
    },
    {
      "cell_type": "markdown",
      "metadata": {
        "id": "UiKi0A9lBtzv"
      },
      "source": [
        "Analyse the interaction using a multi-comparison and the Tukey's rank test. To perform this, uyou will have to create a new variable concatenating the different madalities of explanatory factors."
      ]
    },
    {
      "cell_type": "code",
      "execution_count": 39,
      "metadata": {
        "id": "dnXkpY8uBqsT"
      },
      "outputs": [
        {
          "name": "stdout",
          "output_type": "stream",
          "text": [
            " Multiple Comparison of Means - Tukey HSD, FWER=0.05  \n",
            "======================================================\n",
            "group1 group2 meandiff p-adj   lower    upper   reject\n",
            "------------------------------------------------------\n",
            "OJ_0.5 OJ_1.0     9.47    0.0   4.6719  14.2681   True\n",
            "OJ_0.5 OJ_2.0    12.83    0.0   8.0319  17.6281   True\n",
            "OJ_0.5 VC_0.5    -5.25 0.0243 -10.0481  -0.4519   True\n",
            "OJ_0.5 VC_1.0     3.54  0.264  -1.2581   8.3381  False\n",
            "OJ_0.5 VC_2.0    12.91    0.0   8.1119  17.7081   True\n",
            "OJ_1.0 OJ_2.0     3.36 0.3187  -1.4381   8.1581  False\n",
            "OJ_1.0 VC_0.5   -14.72    0.0 -19.5181  -9.9219   True\n",
            "OJ_1.0 VC_1.0    -5.93 0.0074 -10.7281  -1.1319   True\n",
            "OJ_1.0 VC_2.0     3.44 0.2936  -1.3581   8.2381  False\n",
            "OJ_2.0 VC_0.5   -18.08    0.0 -22.8781 -13.2819   True\n",
            "OJ_2.0 VC_1.0    -9.29    0.0 -14.0881  -4.4919   True\n",
            "OJ_2.0 VC_2.0     0.08    1.0  -4.7181   4.8781  False\n",
            "VC_0.5 VC_1.0     8.79    0.0   3.9919  13.5881   True\n",
            "VC_0.5 VC_2.0    18.16    0.0  13.3619  22.9581   True\n",
            "VC_1.0 VC_2.0     9.37    0.0   4.5719  14.1681   True\n",
            "------------------------------------------------------\n"
          ]
        }
      ],
      "source": [
        "df['interaction'] = df['supp'].astype(str) + \"_\" + df['dose'].astype(str)\n",
        "\n",
        "mc = MultiComparison(df['len'], df['interaction'])\n",
        "result = mc.tukeyhsd(alpha=0.05)\n",
        "\n",
        "print(result.summary())"
      ]
    },
    {
      "cell_type": "markdown",
      "metadata": {
        "id": "QZr5rxUWCruI"
      },
      "source": [
        "# Covariance Analysis\n",
        "\n",
        "We aim to explain now the len variable using both qualitative (supp) and quantitative (dose) variable.\n",
        "\n",
        "Perform a covariance analysis using 'sm.formula.ols'. The output of the summary() function provides a detailed summary of the ANCOVA model, including the estimated coefficients, standard errors, t-values, and p-values for each independent variable and the covariate, as well as the overall F-statistic and p-value for the ANOVA."
      ]
    },
    {
      "cell_type": "code",
      "execution_count": null,
      "metadata": {
        "id": "a2glXESjCNGz"
      },
      "outputs": [],
      "source": [
        "#ETU"
      ]
    },
    {
      "cell_type": "markdown",
      "metadata": {
        "id": "IqQuk7kADSfA"
      },
      "source": [
        "Integrate interactions in the model using the * agregator"
      ]
    },
    {
      "cell_type": "code",
      "execution_count": null,
      "metadata": {
        "id": "IfpF2MpfC-_7"
      },
      "outputs": [],
      "source": [
        "#ETU"
      ]
    },
    {
      "cell_type": "markdown",
      "metadata": {
        "id": "yzT2uAreDib2"
      },
      "source": [
        "Interpret the results."
      ]
    },
    {
      "cell_type": "markdown",
      "metadata": {
        "id": "isQf71PZDlKG"
      },
      "source": [
        "Comment etud"
      ]
    }
  ],
  "metadata": {
    "colab": {
      "provenance": []
    },
    "kernelspec": {
      "display_name": "Python 3",
      "name": "python3"
    },
    "language_info": {
      "codemirror_mode": {
        "name": "ipython",
        "version": 3
      },
      "file_extension": ".py",
      "mimetype": "text/x-python",
      "name": "python",
      "nbconvert_exporter": "python",
      "pygments_lexer": "ipython3",
      "version": "3.11.4"
    }
  },
  "nbformat": 4,
  "nbformat_minor": 0
}
