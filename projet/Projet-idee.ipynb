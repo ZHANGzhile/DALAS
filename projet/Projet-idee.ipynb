{
 "cells": [
  {
   "cell_type": "markdown",
   "id": "16bc2c03",
   "metadata": {},
   "source": [
    "# Project l’impact des aliment sur l’environnement, de la production à la mise en vente"
   ]
  },
  {
   "cell_type": "code",
   "execution_count": null,
   "id": "cba02dfc",
   "metadata": {},
   "outputs": [],
   "source": [
    "#!pip install -q lxml\n",
    "\n",
    "#import bs4\n",
    "#import lxml\n",
    "import pandas as pd\n",
    "#import urllib\n",
    "import projet_craber as craber\n",
    "\n",
    "#from urllib import request"
   ]
  },
  {
   "cell_type": "code",
   "execution_count": null,
   "id": "ee8fe051",
   "metadata": {},
   "outputs": [],
   "source": [
    "# faire scrapping de la page web\n",
    "# # appel la fonction craber\n",
    "# l_pages = [\"agribalyse-31-detail-par-ingredient\",\"agribalyse-31-detail-par-etape\",\"agribalyse-31-synthese\"]\n",
    "# for i in range(3):\n",
    "#     craber.main(l_pages[i])"
   ]
  },
  {
   "cell_type": "code",
   "execution_count": null,
   "id": "0dd78f0c",
   "metadata": {},
   "outputs": [],
   "source": [
    "df_ing = pd.read_csv(\"agribalyse-31-detail-par-ingredient.csv\")\n",
    "df_eta = pd.read_csv(\"agribalyse-31-detail-par-etape.csv\")\n",
    "df_syn = pd.read_csv(\"agribalyse-31-synthese.csv\")\n",
    "df_food = pd.read_csv(\"food-footprints.csv\")"
   ]
  },
  {
   "cell_type": "code",
   "execution_count": null,
   "id": "cde7092e",
   "metadata": {},
   "outputs": [],
   "source": [
    "df_ing.head(3)"
   ]
  },
  {
   "cell_type": "code",
   "execution_count": null,
   "id": "71bce61d",
   "metadata": {},
   "outputs": [],
   "source": [
    "df_eta.head(3)"
   ]
  },
  {
   "cell_type": "code",
   "execution_count": null,
   "id": "26648947",
   "metadata": {},
   "outputs": [],
   "source": [
    "df_syn.head(3)"
   ]
  },
  {
   "cell_type": "markdown",
   "id": "d92542f3",
   "metadata": {},
   "source": [
    "## Pretraitement des données "
   ]
  },
  {
   "cell_type": "code",
   "execution_count": null,
   "id": "134e37fb",
   "metadata": {},
   "outputs": [],
   "source": [
    "# selection toutes les colonne sauf les colonnes \n",
    "liste = (df_eta.columns).to_list()\n",
    "col_eta = [liste[1]] + liste[6:18] + liste[42:54] + liste[78:84]\n",
    "col_eta"
   ]
  },
  {
   "cell_type": "markdown",
   "id": "e38e3d7b",
   "metadata": {},
   "source": [
    "a) Selection des colonnes pertinentes pour l'analyse"
   ]
  },
  {
   "cell_type": "code",
   "execution_count": null,
   "id": "e6d584f4",
   "metadata": {},
   "outputs": [],
   "source": [
    "col_syn = ['Code CIQUAL', 'Sous-groupe d\\'aliment',\n",
    "       'Nom du Produit en Français','Matériau d\\'emballage','DQR',\n",
    "       'Score unique EF', 'Changement climatique',\n",
    "       'Effets toxicologiques sur la santé humaine   substances non-cancérogènes',\n",
    "       'Effets toxicologiques sur la santé humaine   substances cancérogènes',\n",
    "       'Écotoxicité pour écosystèmes aquatiques d\\'eau douce',\n",
    "       'Utilisation du sol', 'Épuisement des ressources eau',\n",
    "       'Épuisement des ressources énergétiques',\n",
    "       'Épuisement des ressources minéraux']"
   ]
  },
  {
   "cell_type": "code",
   "execution_count": 40,
   "id": "4ce6014b",
   "metadata": {},
   "outputs": [],
   "source": [
    "# Selection des colonnes pertinentes pour l'analyse\n",
    "df_synt = df_syn[col_syn]\n",
    "df_etape = df_eta[col_eta]"
   ]
  },
  {
   "cell_type": "markdown",
   "id": "99e28171",
   "metadata": {},
   "source": [
    "b) Suppression des doublons et des valeurs manquantes"
   ]
  },
  {
   "cell_type": "code",
   "execution_count": 41,
   "id": "2bce9862",
   "metadata": {},
   "outputs": [],
   "source": [
    "df_synt = df_synt.drop_duplicates(subset=['Code CIQUAL'], keep='first')\n",
    "df_etape = df_etape.drop_duplicates(subset=['Code CIQUAL'], keep='first')"
   ]
  },
  {
   "cell_type": "markdown",
   "id": "d1560f10",
   "metadata": {},
   "source": [
    "c) Fusion des tables pour une analyse plus complète"
   ]
  },
  {
   "cell_type": "code",
   "execution_count": 46,
   "id": "e5322f9a",
   "metadata": {},
   "outputs": [
    {
     "data": {
      "text/html": [
       "<div>\n",
       "<style scoped>\n",
       "    .dataframe tbody tr th:only-of-type {\n",
       "        vertical-align: middle;\n",
       "    }\n",
       "\n",
       "    .dataframe tbody tr th {\n",
       "        vertical-align: top;\n",
       "    }\n",
       "\n",
       "    .dataframe thead th {\n",
       "        text-align: right;\n",
       "    }\n",
       "</style>\n",
       "<table border=\"1\" class=\"dataframe\">\n",
       "  <thead>\n",
       "    <tr style=\"text-align: right;\">\n",
       "      <th></th>\n",
       "      <th>Code CIQUAL</th>\n",
       "      <th>Sous-groupe d'aliment</th>\n",
       "      <th>Nom du Produit en Français</th>\n",
       "      <th>Matériau d'emballage</th>\n",
       "      <th>DQR</th>\n",
       "      <th>Score unique EF</th>\n",
       "      <th>Changement climatique</th>\n",
       "      <th>Effets toxicologiques sur la santé humaine   substances non-cancérogènes</th>\n",
       "      <th>Effets toxicologiques sur la santé humaine   substances cancérogènes</th>\n",
       "      <th>Écotoxicité pour écosystèmes aquatiques d'eau douce</th>\n",
       "      <th>...</th>\n",
       "      <th>Effets toxicologiques sur la santé humaine   substances cancérogènes - Emballage</th>\n",
       "      <th>Effets toxicologiques sur la santé humaine   substances cancérogènes - Transport</th>\n",
       "      <th>Effets toxicologiques sur la santé humaine   substances cancérogènes - Supermarché et distribution</th>\n",
       "      <th>Effets toxicologiques sur la santé humaine   substances cancérogènes - Consommation</th>\n",
       "      <th>Écotoxicité pour écosystèmes aquatiques d'eau douce - Agriculture</th>\n",
       "      <th>Écotoxicité pour écosystèmes aquatiques d'eau douce - Transformation</th>\n",
       "      <th>Écotoxicité pour écosystèmes aquatiques d'eau douce - Emballage</th>\n",
       "      <th>Écotoxicité pour écosystèmes aquatiques d'eau douce - Transport</th>\n",
       "      <th>Écotoxicité pour écosystèmes aquatiques d'eau douce - Supermarché et distribution</th>\n",
       "      <th>Écotoxicité pour écosystèmes aquatiques d'eau douce - Consommation</th>\n",
       "    </tr>\n",
       "  </thead>\n",
       "  <tbody>\n",
       "    <tr>\n",
       "      <th>0</th>\n",
       "      <td>11084</td>\n",
       "      <td>algues</td>\n",
       "      <td>Agar (algue), cru</td>\n",
       "      <td>LDPE</td>\n",
       "      <td>2.99</td>\n",
       "      <td>1.226025</td>\n",
       "      <td>6.745806</td>\n",
       "      <td>4.771949e-08</td>\n",
       "      <td>6.108019e-09</td>\n",
       "      <td>43.368466</td>\n",
       "      <td>...</td>\n",
       "      <td>7.348668e-11</td>\n",
       "      <td>1.978767e-10</td>\n",
       "      <td>1.586650e-11</td>\n",
       "      <td>1.339638e-12</td>\n",
       "      <td>37.706218</td>\n",
       "      <td>3.382904</td>\n",
       "      <td>0.553107</td>\n",
       "      <td>1.520831</td>\n",
       "      <td>0.159745</td>\n",
       "      <td>0.045661</td>\n",
       "    </tr>\n",
       "    <tr>\n",
       "      <th>1</th>\n",
       "      <td>11023</td>\n",
       "      <td>herbes</td>\n",
       "      <td>Ail séché, poudre</td>\n",
       "      <td>Verre</td>\n",
       "      <td>4.11</td>\n",
       "      <td>0.103513</td>\n",
       "      <td>0.750274</td>\n",
       "      <td>9.281982e-09</td>\n",
       "      <td>4.343632e-10</td>\n",
       "      <td>5.672531</td>\n",
       "      <td>...</td>\n",
       "      <td>1.984326e-10</td>\n",
       "      <td>7.115333e-11</td>\n",
       "      <td>1.305564e-11</td>\n",
       "      <td>0.000000e+00</td>\n",
       "      <td>2.222564</td>\n",
       "      <td>0.000000</td>\n",
       "      <td>2.474064</td>\n",
       "      <td>0.904691</td>\n",
       "      <td>0.071211</td>\n",
       "      <td>0.000000</td>\n",
       "    </tr>\n",
       "    <tr>\n",
       "      <th>2</th>\n",
       "      <td>11000</td>\n",
       "      <td>herbes</td>\n",
       "      <td>Ail, cru</td>\n",
       "      <td>Pas d'emballage</td>\n",
       "      <td>3.54</td>\n",
       "      <td>0.064652</td>\n",
       "      <td>0.358043</td>\n",
       "      <td>6.066248e-09</td>\n",
       "      <td>2.824785e-10</td>\n",
       "      <td>4.064650</td>\n",
       "      <td>...</td>\n",
       "      <td>0.000000e+00</td>\n",
       "      <td>6.567832e-11</td>\n",
       "      <td>1.631954e-11</td>\n",
       "      <td>1.082874e-11</td>\n",
       "      <td>2.778205</td>\n",
       "      <td>0.000000</td>\n",
       "      <td>0.000000</td>\n",
       "      <td>0.828340</td>\n",
       "      <td>0.089014</td>\n",
       "      <td>0.369091</td>\n",
       "    </tr>\n",
       "  </tbody>\n",
       "</table>\n",
       "<p>3 rows × 44 columns</p>\n",
       "</div>"
      ],
      "text/plain": [
       "   Code CIQUAL Sous-groupe d'aliment Nom du Produit en Français  \\\n",
       "0        11084                algues          Agar (algue), cru   \n",
       "1        11023                herbes          Ail séché, poudre   \n",
       "2        11000                herbes                   Ail, cru   \n",
       "\n",
       "  Matériau d'emballage   DQR  Score unique EF  Changement climatique  \\\n",
       "0                 LDPE  2.99         1.226025               6.745806   \n",
       "1                Verre  4.11         0.103513               0.750274   \n",
       "2      Pas d'emballage  3.54         0.064652               0.358043   \n",
       "\n",
       "   Effets toxicologiques sur la santé humaine   substances non-cancérogènes  \\\n",
       "0                                       4.771949e-08                          \n",
       "1                                       9.281982e-09                          \n",
       "2                                       6.066248e-09                          \n",
       "\n",
       "   Effets toxicologiques sur la santé humaine   substances cancérogènes  \\\n",
       "0                                       6.108019e-09                      \n",
       "1                                       4.343632e-10                      \n",
       "2                                       2.824785e-10                      \n",
       "\n",
       "   Écotoxicité pour écosystèmes aquatiques d'eau douce  ...  \\\n",
       "0                                          43.368466    ...   \n",
       "1                                           5.672531    ...   \n",
       "2                                           4.064650    ...   \n",
       "\n",
       "   Effets toxicologiques sur la santé humaine   substances cancérogènes - Emballage  \\\n",
       "0                                       7.348668e-11                                  \n",
       "1                                       1.984326e-10                                  \n",
       "2                                       0.000000e+00                                  \n",
       "\n",
       "   Effets toxicologiques sur la santé humaine   substances cancérogènes - Transport  \\\n",
       "0                                       1.978767e-10                                  \n",
       "1                                       7.115333e-11                                  \n",
       "2                                       6.567832e-11                                  \n",
       "\n",
       "   Effets toxicologiques sur la santé humaine   substances cancérogènes - Supermarché et distribution  \\\n",
       "0                                       1.586650e-11                                                    \n",
       "1                                       1.305564e-11                                                    \n",
       "2                                       1.631954e-11                                                    \n",
       "\n",
       "   Effets toxicologiques sur la santé humaine   substances cancérogènes - Consommation  \\\n",
       "0                                       1.339638e-12                                     \n",
       "1                                       0.000000e+00                                     \n",
       "2                                       1.082874e-11                                     \n",
       "\n",
       "   Écotoxicité pour écosystèmes aquatiques d'eau douce - Agriculture  \\\n",
       "0                                          37.706218                   \n",
       "1                                           2.222564                   \n",
       "2                                           2.778205                   \n",
       "\n",
       "   Écotoxicité pour écosystèmes aquatiques d'eau douce - Transformation  \\\n",
       "0                                           3.382904                      \n",
       "1                                           0.000000                      \n",
       "2                                           0.000000                      \n",
       "\n",
       "   Écotoxicité pour écosystèmes aquatiques d'eau douce - Emballage  \\\n",
       "0                                           0.553107                 \n",
       "1                                           2.474064                 \n",
       "2                                           0.000000                 \n",
       "\n",
       "   Écotoxicité pour écosystèmes aquatiques d'eau douce - Transport  \\\n",
       "0                                           1.520831                 \n",
       "1                                           0.904691                 \n",
       "2                                           0.828340                 \n",
       "\n",
       "   Écotoxicité pour écosystèmes aquatiques d'eau douce - Supermarché et distribution  \\\n",
       "0                                           0.159745                                   \n",
       "1                                           0.071211                                   \n",
       "2                                           0.089014                                   \n",
       "\n",
       "   Écotoxicité pour écosystèmes aquatiques d'eau douce - Consommation  \n",
       "0                                           0.045661                   \n",
       "1                                           0.000000                   \n",
       "2                                           0.369091                   \n",
       "\n",
       "[3 rows x 44 columns]"
      ]
     },
     "execution_count": 46,
     "metadata": {},
     "output_type": "execute_result"
    }
   ],
   "source": [
    "df_fusion = pd.merge(df_synt, df_etape, on='Code CIQUAL', how='inner')\n",
    "df_fusion.head(3)"
   ]
  },
  {
   "cell_type": "markdown",
   "id": "acf367fc",
   "metadata": {},
   "source": [
    "## Visualisation des données"
   ]
  },
  {
   "cell_type": "markdown",
   "id": "37c56565",
   "metadata": {},
   "source": [
    "## Experimentation"
   ]
  },
  {
   "cell_type": "markdown",
   "id": "f6ee1cfa",
   "metadata": {},
   "source": []
  }
 ],
 "metadata": {
  "kernelspec": {
   "display_name": "Python 3 (ipykernel)",
   "language": "python",
   "name": "python3"
  },
  "language_info": {
   "codemirror_mode": {
    "name": "ipython",
    "version": 3
   },
   "file_extension": ".py",
   "mimetype": "text/x-python",
   "name": "python",
   "nbconvert_exporter": "python",
   "pygments_lexer": "ipython3",
   "version": "3.11.4"
  }
 },
 "nbformat": 4,
 "nbformat_minor": 5
}
